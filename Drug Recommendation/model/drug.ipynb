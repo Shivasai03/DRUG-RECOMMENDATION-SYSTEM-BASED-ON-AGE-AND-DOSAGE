{
 "cells": [
  {
   "cell_type": "code",
   "execution_count": 19,
   "metadata": {},
   "outputs": [],
   "source": [
    "import pandas as pd\n",
    "import numpy as np\n",
    "import matplotlib.pyplot as plt\n",
    "\n",
    "from sklearn.preprocessing import PolynomialFeatures\n",
    "from sklearn.linear_model import LinearRegression"
   ]
  },
  {
   "cell_type": "code",
   "execution_count": 20,
   "metadata": {},
   "outputs": [],
   "source": [
    "import pandas as pd\n",
    "import seaborn as sns\n",
    "import matplotlib.pyplot as plt\n",
    "import numpy as np\n",
    "from scipy import stats"
   ]
  },
  {
   "cell_type": "code",
   "execution_count": 21,
   "metadata": {},
   "outputs": [],
   "source": [
    "result=pd.read_csv('drug1.csv',encoding= 'unicode_escape')"
   ]
  },
  {
   "cell_type": "code",
   "execution_count": 22,
   "metadata": {},
   "outputs": [
    {
     "data": {
      "text/html": [
       "<div>\n",
       "<style scoped>\n",
       "    .dataframe tbody tr th:only-of-type {\n",
       "        vertical-align: middle;\n",
       "    }\n",
       "\n",
       "    .dataframe tbody tr th {\n",
       "        vertical-align: top;\n",
       "    }\n",
       "\n",
       "    .dataframe thead th {\n",
       "        text-align: right;\n",
       "    }\n",
       "</style>\n",
       "<table border=\"1\" class=\"dataframe\">\n",
       "  <thead>\n",
       "    <tr style=\"text-align: right;\">\n",
       "      <th></th>\n",
       "      <th>drug</th>\n",
       "      <th>dosage</th>\n",
       "      <th>condition</th>\n",
       "      <th>review</th>\n",
       "      <th>rating</th>\n",
       "      <th>usefulCount</th>\n",
       "      <th>bp</th>\n",
       "      <th>sugar</th>\n",
       "      <th>temperature</th>\n",
       "      <th>age</th>\n",
       "      <th>Sideeffects</th>\n",
       "    </tr>\n",
       "  </thead>\n",
       "  <tbody>\n",
       "    <tr>\n",
       "      <th>0</th>\n",
       "      <td>Mirtazapine</td>\n",
       "      <td>15.00</td>\n",
       "      <td>Depression</td>\n",
       "      <td>\"I&amp;#039;ve tried a few antidepressants over th...</td>\n",
       "      <td>10</td>\n",
       "      <td>22</td>\n",
       "      <td>normal</td>\n",
       "      <td>normal</td>\n",
       "      <td>97</td>\n",
       "      <td>30</td>\n",
       "      <td>dizziness</td>\n",
       "    </tr>\n",
       "    <tr>\n",
       "      <th>1</th>\n",
       "      <td>Mesalamine</td>\n",
       "      <td>250.00</td>\n",
       "      <td>Lymphocytic Colitis</td>\n",
       "      <td>\"I am newly diagnosed with LC, I am 38 years o...</td>\n",
       "      <td>8</td>\n",
       "      <td>23</td>\n",
       "      <td>abnormal</td>\n",
       "      <td>abnormal</td>\n",
       "      <td>97</td>\n",
       "      <td>22</td>\n",
       "      <td>headache</td>\n",
       "    </tr>\n",
       "    <tr>\n",
       "      <th>2</th>\n",
       "      <td>Bactrim</td>\n",
       "      <td>0.24</td>\n",
       "      <td>Urinary Tract Infection</td>\n",
       "      <td>\"Quick reduction of symptoms\"</td>\n",
       "      <td>9</td>\n",
       "      <td>3</td>\n",
       "      <td>abnormal</td>\n",
       "      <td>abnormal</td>\n",
       "      <td>103</td>\n",
       "      <td>56</td>\n",
       "      <td>vomting</td>\n",
       "    </tr>\n",
       "    <tr>\n",
       "      <th>3</th>\n",
       "      <td>Contrave</td>\n",
       "      <td>8.00</td>\n",
       "      <td>Weight Loss</td>\n",
       "      <td>\"Contrave combines drugs that were used for al...</td>\n",
       "      <td>9</td>\n",
       "      <td>35</td>\n",
       "      <td>abnormal</td>\n",
       "      <td>abnormal</td>\n",
       "      <td>100</td>\n",
       "      <td>35</td>\n",
       "      <td>vomting and headache</td>\n",
       "    </tr>\n",
       "    <tr>\n",
       "      <th>4</th>\n",
       "      <td>LEVORA</td>\n",
       "      <td>0.15</td>\n",
       "      <td>Birth Control</td>\n",
       "      <td>\"I was on this pill for almost two years. It d...</td>\n",
       "      <td>2</td>\n",
       "      <td>3</td>\n",
       "      <td>abnormal</td>\n",
       "      <td>abnormal</td>\n",
       "      <td>97</td>\n",
       "      <td>30</td>\n",
       "      <td>headache and dizziness</td>\n",
       "    </tr>\n",
       "    <tr>\n",
       "      <th>...</th>\n",
       "      <td>...</td>\n",
       "      <td>...</td>\n",
       "      <td>...</td>\n",
       "      <td>...</td>\n",
       "      <td>...</td>\n",
       "      <td>...</td>\n",
       "      <td>...</td>\n",
       "      <td>...</td>\n",
       "      <td>...</td>\n",
       "      <td>...</td>\n",
       "      <td>...</td>\n",
       "    </tr>\n",
       "    <tr>\n",
       "      <th>394</th>\n",
       "      <td>Lo Loestrin Fe</td>\n",
       "      <td>1.00</td>\n",
       "      <td>Birth Control</td>\n",
       "      <td>\"Ive been on this pill for 9 months now and I ...</td>\n",
       "      <td>10</td>\n",
       "      <td>10</td>\n",
       "      <td>abnormal</td>\n",
       "      <td>abnormal</td>\n",
       "      <td>101</td>\n",
       "      <td>23</td>\n",
       "      <td>vomting</td>\n",
       "    </tr>\n",
       "    <tr>\n",
       "      <th>395</th>\n",
       "      <td>Ethinyl estradiol / norgestimate</td>\n",
       "      <td>0.25</td>\n",
       "      <td>Birth Control</td>\n",
       "      <td>\"I&amp;#039;ve been on Sprintec for two months now...</td>\n",
       "      <td>5</td>\n",
       "      <td>2</td>\n",
       "      <td>abnormal</td>\n",
       "      <td>abnormal</td>\n",
       "      <td>102</td>\n",
       "      <td>18</td>\n",
       "      <td>vomting and headache</td>\n",
       "    </tr>\n",
       "    <tr>\n",
       "      <th>396</th>\n",
       "      <td>Guaifenesin / pseudoephedrine</td>\n",
       "      <td>60.00</td>\n",
       "      <td>Cough and Nasal Congestion</td>\n",
       "      <td>\"I have severe sinus problems all year long, b...</td>\n",
       "      <td>9</td>\n",
       "      <td>12</td>\n",
       "      <td>normal</td>\n",
       "      <td>normal</td>\n",
       "      <td>99</td>\n",
       "      <td>67</td>\n",
       "      <td>headache and dizziness</td>\n",
       "    </tr>\n",
       "    <tr>\n",
       "      <th>397</th>\n",
       "      <td>Glyburide</td>\n",
       "      <td>5.00</td>\n",
       "      <td>Diabetes, Type 2</td>\n",
       "      <td>\"I am taking 1/2 pill twice a day (5mg total) ...</td>\n",
       "      <td>9</td>\n",
       "      <td>11</td>\n",
       "      <td>normal</td>\n",
       "      <td>normal</td>\n",
       "      <td>97</td>\n",
       "      <td>72</td>\n",
       "      <td>weight gain</td>\n",
       "    </tr>\n",
       "    <tr>\n",
       "      <th>398</th>\n",
       "      <td>Phentermine / topiramate</td>\n",
       "      <td>7.50</td>\n",
       "      <td>Weight Loss</td>\n",
       "      <td>\"I have been on every diet known to man kind. ...</td>\n",
       "      <td>10</td>\n",
       "      <td>113</td>\n",
       "      <td>abnormal</td>\n",
       "      <td>abnormal</td>\n",
       "      <td>97</td>\n",
       "      <td>74</td>\n",
       "      <td>heatburn</td>\n",
       "    </tr>\n",
       "  </tbody>\n",
       "</table>\n",
       "<p>399 rows × 11 columns</p>\n",
       "</div>"
      ],
      "text/plain": [
       "                                 drug  dosage                   condition  \\\n",
       "0                         Mirtazapine   15.00                  Depression   \n",
       "1                          Mesalamine  250.00         Lymphocytic Colitis   \n",
       "2                             Bactrim    0.24     Urinary Tract Infection   \n",
       "3                            Contrave    8.00                 Weight Loss   \n",
       "4                              LEVORA    0.15               Birth Control   \n",
       "..                                ...     ...                         ...   \n",
       "394                    Lo Loestrin Fe    1.00               Birth Control   \n",
       "395  Ethinyl estradiol / norgestimate    0.25               Birth Control   \n",
       "396     Guaifenesin / pseudoephedrine   60.00  Cough and Nasal Congestion   \n",
       "397                         Glyburide    5.00            Diabetes, Type 2   \n",
       "398          Phentermine / topiramate    7.50                 Weight Loss   \n",
       "\n",
       "                                                review  rating  usefulCount  \\\n",
       "0    \"I&#039;ve tried a few antidepressants over th...      10           22   \n",
       "1    \"I am newly diagnosed with LC, I am 38 years o...       8           23   \n",
       "2                        \"Quick reduction of symptoms\"       9            3   \n",
       "3    \"Contrave combines drugs that were used for al...       9           35   \n",
       "4    \"I was on this pill for almost two years. It d...       2            3   \n",
       "..                                                 ...     ...          ...   \n",
       "394  \"Ive been on this pill for 9 months now and I ...      10           10   \n",
       "395  \"I&#039;ve been on Sprintec for two months now...       5            2   \n",
       "396  \"I have severe sinus problems all year long, b...       9           12   \n",
       "397  \"I am taking 1/2 pill twice a day (5mg total) ...       9           11   \n",
       "398  \"I have been on every diet known to man kind. ...      10          113   \n",
       "\n",
       "           bp     sugar  temperature  age             Sideeffects  \n",
       "0      normal    normal           97   30               dizziness  \n",
       "1    abnormal  abnormal           97   22                headache  \n",
       "2    abnormal  abnormal          103   56                 vomting  \n",
       "3    abnormal  abnormal          100   35    vomting and headache  \n",
       "4    abnormal  abnormal           97   30  headache and dizziness  \n",
       "..        ...       ...          ...  ...                     ...  \n",
       "394  abnormal  abnormal          101   23                 vomting  \n",
       "395  abnormal  abnormal          102   18    vomting and headache  \n",
       "396    normal    normal           99   67  headache and dizziness  \n",
       "397    normal    normal           97   72             weight gain  \n",
       "398  abnormal  abnormal           97   74                heatburn  \n",
       "\n",
       "[399 rows x 11 columns]"
      ]
     },
     "execution_count": 22,
     "metadata": {},
     "output_type": "execute_result"
    }
   ],
   "source": [
    "result"
   ]
  },
  {
   "cell_type": "code",
   "execution_count": 23,
   "metadata": {},
   "outputs": [
    {
     "data": {
      "text/plain": [
       "drug           0\n",
       "dosage         0\n",
       "condition      0\n",
       "review         0\n",
       "rating         0\n",
       "usefulCount    0\n",
       "bp             0\n",
       "sugar          0\n",
       "temperature    0\n",
       "age            0\n",
       "Sideeffects    0\n",
       "dtype: int64"
      ]
     },
     "execution_count": 23,
     "metadata": {},
     "output_type": "execute_result"
    }
   ],
   "source": [
    "result.isnull().sum()"
   ]
  },
  {
   "cell_type": "code",
   "execution_count": 24,
   "metadata": {},
   "outputs": [],
   "source": [
    "result.loc[result['bp']=='normal', 'bp'] =1\n",
    "result.loc[result['bp']=='abnormal', 'bp'] = 2\n",
    "\n",
    "result.loc[result['sugar']=='normal', 'sugar'] =1\n",
    "result.loc[result['sugar']=='abnormal', 'sugar'] = 2\n",
    "\n",
    "\n",
    "\n",
    "\n",
    "result.loc[result['condition']=='Depression', 'condition'] =1\n",
    "result.loc[result['condition']=='Lymphocytic Colitis', 'condition'] =2\n",
    "result.loc[result['condition']=='Urinary Tract Infection', 'condition'] =3\n",
    "result.loc[result['condition']=='Weight Loss', 'condition'] =4\n",
    "result.loc[result['condition']=='Birth Control', 'condition'] =5\n",
    "result.loc[result['condition']=='Vaginal Yeast Infection', 'condition'] =6\n",
    "result.loc[result['condition']=='Narcolepsy', 'condition'] =7\n",
    "result.loc[result['condition']=='Insomnia', 'condition'] =8\n",
    "result.loc[result['condition']=='Bipolar Disorde', 'condition'] =9\n",
    "result.loc[result['condition']=='Hyperhidrosis', 'condition'] =10\n",
    "result.loc[result['condition']=='Panic Disorde', 'condition'] =11\n",
    "result.loc[result['condition']=='Rosacea', 'condition'] =12\n",
    "result.loc[result['condition']=='Bowel Preparation', 'condition'] =13\n",
    "result.loc[result['condition']=='Constipation, Drug Induced', 'condition'] =14\n",
    "result.loc[result['condition']=='Diabetes, Type 2', 'condition'] =15\n",
    "result.loc[result['condition']=='Pain', 'condition'] =16\n",
    "result.loc[result['condition']=='Alcohol Dependence', 'condition'] =17\n",
    "result.loc[result['condition']=='Emergency Contraception', 'condition'] =18\n",
    "result.loc[result['condition']=='Major Depressive Disorde', 'condition'] =19\n",
    "result.loc[result['condition']=='Anxiety', 'condition'] =20\n",
    "result.loc[result['condition']=='Acne', 'condition'] =21\n",
    "result.loc[result['condition']=='Cough and Nasal Congestion', 'condition'] =22\n",
    "\n",
    "\n",
    "\n",
    "\n",
    "\n"
   ]
  },
  {
   "cell_type": "code",
   "execution_count": null,
   "metadata": {},
   "outputs": [],
   "source": []
  },
  {
   "cell_type": "code",
   "execution_count": 25,
   "metadata": {},
   "outputs": [],
   "source": [
    "y1=result['drug']\n",
    "y2 = result['dosage']\n",
    "y3 = result['Sideeffects']\n",
    "x=result[['bp','sugar','temperature','age','condition']]"
   ]
  },
  {
   "cell_type": "code",
   "execution_count": 26,
   "metadata": {},
   "outputs": [],
   "source": [
    "#code to predict the drug -- dosage prediction code is implemented later\n",
    "from sklearn.model_selection import train_test_split\n",
    "\n",
    "X_train,X_test,y_train,y_test=train_test_split(x,y1,random_state=0)"
   ]
  },
  {
   "cell_type": "code",
   "execution_count": 27,
   "metadata": {},
   "outputs": [],
   "source": [
    "from sklearn.tree import DecisionTreeClassifier # Import Decision Tree Classifier\n",
    "clf = DecisionTreeClassifier()\n",
    "\n",
    "# Train Decision Tree Classifer\n",
    "clf = clf.fit(x, y1)"
   ]
  },
  {
   "cell_type": "code",
   "execution_count": 28,
   "metadata": {},
   "outputs": [
    {
     "name": "stdout",
     "output_type": "stream",
     "text": [
      "Training Accuracy:  0.9866220735785953\n",
      "Test Accuracy:  0.96\n"
     ]
    }
   ],
   "source": [
    "from sklearn.metrics import accuracy_score\n",
    "y_pred_class = clf.predict(X_test)\n",
    "\n",
    "print(\"Training Accuracy: \",clf.score(X_train,y_train))\n",
    "print(\"Test Accuracy: \",accuracy_score(y_test,y_pred_class,normalize=True))"
   ]
  },
  {
   "cell_type": "code",
   "execution_count": 29,
   "metadata": {},
   "outputs": [
    {
     "name": "stdout",
     "output_type": "stream",
     "text": [
      "                                  precision    recall  f1-score   support\n",
      "\n",
      "                           Actos       1.00      1.00      1.00         3\n",
      "                    Aripiprazole       1.00      1.00      1.00         1\n",
      "                           Aubra       0.20      1.00      0.33         1\n",
      "                         Bactrim       1.00      1.00      1.00         2\n",
      "                           Beyaz       1.00      1.00      1.00         5\n",
      "               Blisovi Fe 1 / 20       0.00      0.00      0.00         4\n",
      "                         Campral       1.00      1.00      1.00         3\n",
      "                   Ciprofloxacin       1.00      1.00      1.00         2\n",
      "                      Clonazepam       1.00      1.00      1.00         4\n",
      "                        Contrave       1.00      1.00      1.00         1\n",
      "                      Duloxetine       1.00      1.00      1.00         1\n",
      "                    Escitalopram       1.00      1.00      1.00         3\n",
      "Ethinyl estradiol / etonogestrel       1.00      1.00      1.00         4\n",
      "Ethinyl estradiol / norgestimate       1.00      1.00      1.00         8\n",
      "                    Etonogestrel       1.00      1.00      1.00         5\n",
      "                      Gabapentin       1.00      1.00      1.00         1\n",
      "                       Glyburide       1.00      1.00      1.00         2\n",
      "   Guaifenesin / pseudoephedrine       1.00      1.00      1.00         7\n",
      "                      Ivermectin       1.00      1.00      1.00         3\n",
      "                          LEVORA       1.00      1.00      1.00         1\n",
      "                     Lamotrigine       1.00      1.00      1.00         3\n",
      "                  Levonorgestrel       1.00      1.00      1.00         2\n",
      "                  Lo Loestrin Fe       1.00      1.00      1.00         2\n",
      "                      Mesalamine       1.00      1.00      1.00         1\n",
      "                      Miconazole       1.00      1.00      1.00         2\n",
      "         Microgestin Fe 1.5 / 30       1.00      1.00      1.00         3\n",
      "                     Mirtazapine       1.00      1.00      1.00         2\n",
      "                        Movantik       1.00      1.00      1.00         2\n",
      "                  Nitrofurantoin       1.00      1.00      1.00         2\n",
      "                        NuvaRing       1.00      1.00      1.00         3\n",
      "                         Nuvigil       1.00      1.00      1.00         1\n",
      "                      Oxybutynin       1.00      1.00      1.00         3\n",
      "        Phentermine / topiramate       1.00      1.00      1.00         4\n",
      "                  Sodium oxybate       1.00      1.00      1.00         3\n",
      "           Suprep Bowel Prep Kit       1.00      1.00      1.00         1\n",
      "                       Trazodone       1.00      1.00      1.00         1\n",
      "                      Wellbutrin       1.00      1.00      1.00         4\n",
      "\n",
      "                        accuracy                           0.96       100\n",
      "                       macro avg       0.95      0.97      0.95       100\n",
      "                    weighted avg       0.95      0.96      0.95       100\n",
      "\n"
     ]
    },
    {
     "name": "stderr",
     "output_type": "stream",
     "text": [
      "C:\\Users\\DELL\\anaconda3\\lib\\site-packages\\sklearn\\metrics\\_classification.py:1318: UndefinedMetricWarning: Precision and F-score are ill-defined and being set to 0.0 in labels with no predicted samples. Use `zero_division` parameter to control this behavior.\n",
      "  _warn_prf(average, modifier, msg_start, len(result))\n",
      "C:\\Users\\DELL\\anaconda3\\lib\\site-packages\\sklearn\\metrics\\_classification.py:1318: UndefinedMetricWarning: Precision and F-score are ill-defined and being set to 0.0 in labels with no predicted samples. Use `zero_division` parameter to control this behavior.\n",
      "  _warn_prf(average, modifier, msg_start, len(result))\n",
      "C:\\Users\\DELL\\anaconda3\\lib\\site-packages\\sklearn\\metrics\\_classification.py:1318: UndefinedMetricWarning: Precision and F-score are ill-defined and being set to 0.0 in labels with no predicted samples. Use `zero_division` parameter to control this behavior.\n",
      "  _warn_prf(average, modifier, msg_start, len(result))\n"
     ]
    }
   ],
   "source": [
    "import sklearn.metrics\n",
    "print(sklearn.metrics.classification_report(y_test, y_pred_class))"
   ]
  },
  {
   "cell_type": "code",
   "execution_count": 30,
   "metadata": {},
   "outputs": [
    {
     "data": {
      "text/plain": [
       "array([[3, 0, 0, ..., 0, 0, 0],\n",
       "       [0, 1, 0, ..., 0, 0, 0],\n",
       "       [0, 0, 1, ..., 0, 0, 0],\n",
       "       ...,\n",
       "       [0, 0, 0, ..., 1, 0, 0],\n",
       "       [0, 0, 0, ..., 0, 1, 0],\n",
       "       [0, 0, 0, ..., 0, 0, 4]], dtype=int64)"
      ]
     },
     "execution_count": 30,
     "metadata": {},
     "output_type": "execute_result"
    }
   ],
   "source": [
    "y_pred = clf.predict(X_test )\n",
    "y_true=y_test\n",
    "\n",
    "\n",
    "from sklearn.metrics import confusion_matrix\n",
    "cm=confusion_matrix(y_true,y_pred)\n",
    "cm"
   ]
  },
  {
   "cell_type": "code",
   "execution_count": 31,
   "metadata": {},
   "outputs": [
    {
     "data": {
      "image/png": "[encoded data removed]",
      "text/plain": [
       "<Figure size 500x500 with 2 Axes>"
      ]
     },
     "metadata": {},
     "output_type": "display_data"
    }
   ],
   "source": [
    "import seaborn as sns\n",
    "import matplotlib.pyplot as plt\n",
    "\n",
    "f, ax=plt.subplots(figsize=(5,5))\n",
    "sns.heatmap(cm,annot=True,linewidths=0.5,linecolor=\"red\",fmt=\".0f\",ax=ax)\n",
    "plt.xlabel(\"y_pred\")\n",
    "plt.ylabel(\"y_true\")\n",
    "plt.show()"
   ]
  },
  {
   "cell_type": "code",
   "execution_count": 32,
   "metadata": {},
   "outputs": [],
   "source": [
    "import pickle\n",
    "\n",
    "pickle.dump(clf,open('drug.pkl','wb'))\n",
    "crop = pickle.load(open('drug.pkl','rb'))"
   ]
  },
  {
   "cell_type": "code",
   "execution_count": 33,
   "metadata": {},
   "outputs": [],
   "source": [
    "#code to predict the dosage prediction\n",
    "from sklearn.model_selection import train_test_split\n",
    "\n",
    "X_train,X_test,y_train,y_test=train_test_split(x,y2,random_state=0)"
   ]
  },
  {
   "cell_type": "code",
   "execution_count": 34,
   "metadata": {},
   "outputs": [],
   "source": [
    "from sklearn import svm\n",
    "clf = svm.SVR() \n",
    "\n",
    "# Train Decision Tree Classifer\n",
    "clf = clf.fit(x, y2)"
   ]
  },
  {
   "cell_type": "code",
   "execution_count": 35,
   "metadata": {},
   "outputs": [],
   "source": [
    "y_pred = clf.predict(X_test )\n",
    "y_true=y_test"
   ]
  },
  {
   "cell_type": "code",
   "execution_count": 36,
   "metadata": {},
   "outputs": [],
   "source": [
    "import pickle\n",
    "\n",
    "pickle.dump(clf,open('dosage.pkl','wb'))\n",
    "crop = pickle.load(open('dosage.pkl','rb'))\n"
   ]
  },
  {
   "cell_type": "code",
   "execution_count": null,
   "metadata": {},
   "outputs": [],
   "source": []
  },
  {
   "cell_type": "code",
   "execution_count": null,
   "metadata": {},
   "outputs": [],
   "source": []
  },
  {
   "cell_type": "code",
   "execution_count": null,
   "metadata": {},
   "outputs": [],
   "source": []
  },
  {
   "cell_type": "code",
   "execution_count": null,
   "metadata": {},
   "outputs": [],
   "source": []
  },
  {
   "cell_type": "code",
   "execution_count": null,
   "metadata": {},
   "outputs": [],
   "source": []
  },
  {
   "cell_type": "code",
   "execution_count": null,
   "metadata": {},
   "outputs": [],
   "source": []
  },
  {
   "cell_type": "code",
   "execution_count": null,
   "metadata": {},
   "outputs": [],
   "source": []
  }
 ],
 "metadata": {
  "kernelspec": {
   "display_name": "Python 3 (ipykernel)",
   "language": "python",
   "name": "python3"
  },
  "language_info": {
   "codemirror_mode": {
    "name": "ipython",
    "version": 3
   },
   "file_extension": ".py",
   "mimetype": "text/x-python",
   "name": "python",
   "nbconvert_exporter": "python",
   "pygments_lexer": "ipython3",
   "version": "3.9.13"
  },
  "vscode": {
   "interpreter": {
    "hash": "c3310db116dcaca99bc46e3d37e8943169b547daf7e2a0d6cd31ed64a197a675"
   }
  }
 },
 "nbformat": 4,
 "nbformat_minor": 2
}
